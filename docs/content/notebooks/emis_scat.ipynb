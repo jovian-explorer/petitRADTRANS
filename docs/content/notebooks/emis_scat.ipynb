{
 "cells": [
  {
   "cell_type": "markdown",
   "metadata": {},
   "source": [
    "# Scattering for Emission Spectra"
   ]
  },
  {
   "cell_type": "markdown",
   "metadata": {},
   "source": [
    "Here we describe the self-scattering implementation of pRT. Self-scattering means that photons originating in the planetary atmosphere will be scattered. The details behind this implementation are described in [Mollière et al. (2020)](https://arxiv.org/abs/2006.09394). Self-scattering is the process to consider for (cloudy) brown dwarfs and directly imaged planets. For the optical and near-infrared spectra of close-in planets, also scattering of the stellar light can be important. Thus we are currently porting the stellar scattering implementation of [petitCODE](http://www.mpia.de/homes/molliere/#petitcode) for use in pRT, which will become available soon."
   ]
  },
  {
   "cell_type": "markdown",
   "metadata": {},
   "source": [
    "To turn on scattering one must simply pass the keyword ``do_scat_emis = True`` to ``Radtrans()`` when initializing the pRT object. Here we will take the setup identical to the example described in [\"Clouds\"](clouds.html), considering a Mg$_2$SiO$_4$ cloud."
   ]
  },
  {
   "cell_type": "code",
   "execution_count": 8,
   "metadata": {},
   "outputs": [
    {
     "name": "stdout",
     "output_type": "stream",
     "text": [
      "\n",
      "  Read CIA opacities for H2-H2...\n",
      "  Read CIA opacities for H2-He...\n",
      " Done.\n",
      "\n"
     ]
    }
   ],
   "source": [
    "import numpy as np\n",
    "from petitRADTRANS import Radtrans\n",
    "\n",
    "# Load scattering version of pRT\n",
    "atmosphere = Radtrans(line_species = ['H2O', 'CO_all_iso', 'CH4', 'CO2', 'Na', 'K'], \\\n",
    "      cloud_species = ['Mg2SiO4(c)_cd'], \\\n",
    "      rayleigh_species = ['H2', 'He'], \\\n",
    "      continuum_opacities = ['H2-H2', 'H2-He'], \\\n",
    "      wlen_bords_micron = [0.3, 15], \\\n",
    "      do_scat_emis = True)\n",
    "\n",
    "pressures = np.logspace(-6, 2, 100)\n",
    "atmosphere.setup_opa_structure(pressures)"
   ]
  },
  {
   "cell_type": "markdown",
   "metadata": {},
   "source": [
    "Here we define the atmosphere, and some cloud parameters. Again, see the [\"Clouds\"](clouds.html) page for more information. The parameters are chosen more appropriately for a directly imaged object, specifically by also setting $T_{\\rm int}=0$."
   ]
  },
  {
   "cell_type": "code",
   "execution_count": 9,
   "metadata": {},
   "outputs": [],
   "source": [
    "from petitRADTRANS import nat_cst as nc\n",
    "R_pl = 1.2*nc.r_jup_mean\n",
    "gravity = 1e1**4.0\n",
    "\n",
    "kappa_IR = 0.01\n",
    "gamma = 0.4\n",
    "T_int = 200.\n",
    "T_equ = 0.\n",
    "temperature = nc.guillot_global(pressures, kappa_IR, gamma, gravity, T_int, T_equ)\n",
    "\n",
    "mass_fractions = {}\n",
    "mass_fractions['H2'] = 0.74 * np.ones_like(temperature)\n",
    "mass_fractions['He'] = 0.24 * np.ones_like(temperature)\n",
    "mass_fractions['H2O'] = 0.001 * np.ones_like(temperature)\n",
    "mass_fractions['CO_all_iso'] = 0.01 * np.ones_like(temperature)\n",
    "mass_fractions['CO2'] = 0.00001 * np.ones_like(temperature)\n",
    "mass_fractions['CH4'] = 0.000001 * np.ones_like(temperature)\n",
    "mass_fractions['Na'] = 0.00001 * np.ones_like(temperature)\n",
    "mass_fractions['K'] = 0.000001 * np.ones_like(temperature)\n",
    "mass_fractions['Mg2SiO4(c)'] = 0.0000005 * np.ones_like(temperature)\n",
    "\n",
    "MMW = 2.33 * np.ones_like(temperature)\n",
    "\n",
    "Kzz = np.ones_like(temperature)*1e1**7.5\n",
    "fsed = 2.\n",
    "sigma_lnorm = 1.05"
   ]
  },
  {
   "cell_type": "markdown",
   "metadata": {},
   "source": [
    "We will consider clouds that are somewhat thicker than those considered in the [\"Clouds\"](clouds.html) example. We will also compare to the cloud-free case, and the case neglecting scattering again. For the last case we have to initialize a pRT object with ``do_scat_emis = False``."
   ]
  },
  {
   "cell_type": "code",
   "execution_count": 10,
   "metadata": {},
   "outputs": [
    {
     "name": "stdout",
     "output_type": "stream",
     "text": [
      "\n",
      "  Read CIA opacities for H2-H2...\n",
      "  Read CIA opacities for H2-He...\n",
      " Done.\n",
      "\n"
     ]
    },
    {
     "data": {
      "image/png": "[encoded data removed]",
      "text/plain": [
       "<Figure size 432x288 with 1 Axes>"
      ]
     },
     "metadata": {
      "needs_background": "light"
     },
     "output_type": "display_data"
    },
    {
     "data": {
      "text/plain": [
       "<Figure size 432x288 with 0 Axes>"
      ]
     },
     "metadata": {},
     "output_type": "display_data"
    }
   ],
   "source": [
    "import pylab as plt\n",
    "mass_fractions['Mg2SiO4(c)'] = 0.00005 * np.ones_like(temperature)\n",
    "\n",
    "atmosphere.calc_flux(temperature, mass_fractions, gravity, MMW, \\\n",
    "                       Kzz = Kzz, fsed=fsed, sigma_lnorm = sigma_lnorm)\n",
    "plt.plot(nc.c/atmosphere.freq/1e-4, atmosphere.flux/1e-6, \\\n",
    "         label = 'cloudy, including scattering', zorder = 2)\n",
    "\n",
    "atmosphere = Radtrans(line_species = ['H2O', 'CO_all_iso', 'CH4', 'CO2', 'Na', 'K'], \\\n",
    "      cloud_species = ['Mg2SiO4(c)_cd'], \\\n",
    "      rayleigh_species = ['H2', 'He'], \\\n",
    "      continuum_opacities = ['H2-H2', 'H2-He'], \\\n",
    "      wlen_bords_micron = [0.3, 15], \\\n",
    "      do_scat_emis = False)\n",
    "pressures = np.logspace(-6, 2, 100)\n",
    "atmosphere.setup_opa_structure(pressures)\n",
    "\n",
    "atmosphere.calc_flux(temperature, mass_fractions, gravity, MMW, \\\n",
    "                       Kzz = Kzz, fsed=fsed, sigma_lnorm = sigma_lnorm)\n",
    "plt.plot(nc.c/atmosphere.freq/1e-4, atmosphere.flux/1e-6, \\\n",
    "         label = 'cloudy, neglecting scattering', zorder = 1)\n",
    "\n",
    "mass_fractions['Mg2SiO4(c)'] = 0.0 * np.ones_like(temperature)\n",
    "\n",
    "atmosphere.calc_flux(temperature, mass_fractions, gravity, MMW, \\\n",
    "                       Kzz = Kzz, fsed=fsed, sigma_lnorm = sigma_lnorm)\n",
    "plt.plot(nc.c/atmosphere.freq/1e-4, atmosphere.flux/1e-6, \\\n",
    "         label = 'cloud-free', zorder = 0)\n",
    "\n",
    "plt.legend(loc='best')\n",
    "plt.xscale('log')\n",
    "plt.xlabel('Wavelength (microns)')\n",
    "plt.ylabel(r'Planet flux $F_\\nu$ (10$^{-6}$ erg cm$^{-2}$ s$^{-1}$ Hz$^{-1}$)')\n",
    "plt.show()\n",
    "plt.clf()"
   ]
  },
  {
   "cell_type": "markdown",
   "metadata": {},
   "source": [
    "# Use better P-T, also talk about parametrized scattering..."
   ]
  }
 ],
 "metadata": {
  "kernelspec": {
   "display_name": "Python [conda env:python3]",
   "language": "python",
   "name": "conda-env-python3-py"
  },
  "language_info": {
   "codemirror_mode": {
    "name": "ipython",
    "version": 3
   },
   "file_extension": ".py",
   "mimetype": "text/x-python",
   "name": "python",
   "nbconvert_exporter": "python",
   "pygments_lexer": "ipython3",
   "version": "3.6.9"
  }
 },
 "nbformat": 4,
 "nbformat_minor": 2
}
