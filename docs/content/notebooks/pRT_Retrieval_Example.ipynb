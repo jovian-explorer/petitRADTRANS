{
 "cells": [
  {
   "cell_type": "markdown",
   "metadata": {},
   "source": [
    "# PetitRADTRANS Emission Spectrum Retrieval Example\n",
    "### Written by Evert Nasedkin and Paul Mollière\n",
    "### Based on Mollière (2020)\n",
    "https://arxiv.org/abs/2006.09394\n",
    "\n",
    "Here we will outline the process of setting up a RetrievalConfig object,\n",
    "which is the class used to set up a petitRadTrans retrieval.\n",
    "The basic process will always be to set up the configuration, and then pass\n",
    "it to the Retrieval class to run the retrieval using pyMultinest sampling.\n",
    "Several standard plotting outputs will also be produced by the retrieval class.\n",
    "\n",
    "## Getting started\n",
    "You should already have an installation of petitRadTrans on your machine, together with the opacity data files. Multinest and pymultinest are also required. \n",
    "If you installed from gitlab, ensure that you have ran <code>./make.sh</code> in both the petitRADTRANS and petitRADTRANS/retrieval directories, which compiles the fortran code used in the retrieval for rebinning spectra.\n"
   ]
  },
  {
   "cell_type": "code",
   "execution_count": 1,
   "metadata": {},
   "outputs": [],
   "source": [
    "# Let's start by importing everything we need.\n",
    "import sys, os\n",
    "# To not have numpy start parallelizing on its own\n",
    "os.environ[\"OMP_NUM_THREADS\"] = \"1\"\n",
    "import numpy as np\n",
    "import matplotlib.pyplot as plt\n",
    "\n",
    "from petitRADTRANS import Radtrans\n",
    "from petitRADTRANS import nat_cst as nc\n",
    "\n",
    "# Import the class used to set up the retrieval.\n",
    "from petitRADTRANS import RetrievalConfig\n",
    "from petitRADTRANS import Retrieval\n",
    "\n",
    "# Import Prior functions, if necessary.\n",
    "from petitRADTRANS.retrieval.util import gaussian_prior\n",
    "\n",
    "# Import atmospheric model function\n",
    "# You could also write your own!\n",
    "from petitRADTRANS.retrieval.models import emission_model_diseq"
   ]
  },
  {
   "cell_type": "code",
   "execution_count": 2,
   "metadata": {},
   "outputs": [],
   "source": [
    "# Lets start out by setting up a simple run definition\n",
    "# We'll add the data AFTER we define the model function below\n",
    "# Full details of the parameters can be found in retrieval_config.py\n",
    "\n",
    "# Since our retrieval has already ran before, we'll set the mode to 'evaluate' so we can make some plots.\n",
    "RunDefinitionSimple = RetrievalConfig(retrieval_name = \"hst_example_clear_spec\", \n",
    "                                      run_mode = \"retrieval\", # This must be 'retrieval' to run PMN        \n",
    "                                      AMR = False, # We won't be using adaptive mesh refinement        \n",
    "                                      plotting = False, # We don't want to output plots for each sample\n",
    "                                      scattering = False)# We don't want to use scattering (only for emission)\n",
    "\n",
    "# Let's start with the parameters that will remain fixed during the retrieval\n",
    "RunDefinitionSimple.add_parameter('Rstar', # name\n",
    "                                  False,   # is_free_parameter\n",
    "                                  value = 0.651*nc.r_sun)\n",
    "\n",
    "# Log of the surface gravity in cgs units.\n",
    "# The transform_prior_cube argument transforms a random sample in [0,1]\n",
    "# to the physical units we're using in pRT.\n",
    "RunDefinitionSimple.add_parameter('log_g',True, \n",
    "                            transform_prior_cube_coordinate = \\\n",
    "                            lambda x : 2.+3.5*x)\n",
    "\n",
    "# Planet radius in cm\n",
    "RunDefinitionSimple.add_parameter('R_pl', True, \\\n",
    "                            transform_prior_cube_coordinate = \\\n",
    "                            lambda x : ( 0.2+0.2*x)*nc.r_jup_mean)\n",
    "\n",
    "# Interior temperature in Kelvin\n",
    "RunDefinitionSimple.add_parameter('Temperature', True, \\\n",
    "                            transform_prior_cube_coordinate = \\\n",
    "                            lambda x : 300.+2000.*x,\n",
    "                            value=0.0)\n",
    "\n",
    "# Let's include a grey cloud to make sure that the retrieval works, \n",
    "# and doesn't find an opaque cloud for the clear atmosphere.\n",
    "RunDefinitionSimple.add_parameter(\"log_Pcloud\", True, \\\n",
    "                            transform_prior_cube_coordinate = \\\n",
    "                            lambda x : -6.0+8.0*x,\n",
    "                            value=0.0)                          \n"
   ]
  },
  {
   "source": [
    "Let's start with a simple model. We'll use an isothermal temperature profile, and use free chemistry.\n",
    "The basic process for every retrieval will be the same. We need to set up a RetrievalConfig object,\n",
    "adding in the Data objects that we want to fit, the Parameters and their priors, and all of the extra parameters we can use to customize our retrieval."
   ],
   "cell_type": "markdown",
   "metadata": {}
  },
  {
   "source": [
    "## Opacities\n",
    "PetitRadTrans can be setup to use line by line opacities at R=10^6, or a lower resolution correlated-k mode (which we use here). The names of each species in these lists much match the names in the pRT opacity data files, derived from ExoMol line lists.\n",
    "\n",
    "In addition to the line-by-line opacities, pRT also accounts for rayleigh scattering, CIA opaticies, and opacities for various cloud species.\n",
    "If a cloud species is used, it will have a set of parameters added in order to retrieve the cloud abundance.\n",
    "The parameters added depend on the model chosen. For this example, a parameter is added to scale the equilibrium cloud abundances. If the 'eq' parameter is turned off, parameters for the cloud abundance and the cloud base pressure are added."
   ],
   "cell_type": "markdown",
   "metadata": {}
  },
  {
   "cell_type": "code",
   "execution_count": 3,
   "metadata": {},
   "outputs": [],
   "source": [
    "RunDefinitionSimple.set_rayleigh_species(['H2', 'He'])\n",
    "RunDefinitionSimple.set_continuum_opacities(['H2-H2', 'H2-He'])\n",
    "\n",
    "# Here we setup the line species for a free retrieval, setting the prior bounds with the abund_lim parameter\n",
    "# The retrieved value is the log mass fraction.\n",
    "RunDefinitionSimple.set_line_species([\"CH4\", \"H2O\", \"CO2\", \"CO_all_iso\"], free=True, abund_lim = (-6.0,6.0))"
   ]
  },
  {
   "source": [
    "# Model Functions\n",
    "In addition to setting up a retrieval with a standard mode, you may also want to write your own model to be used in the retrieval setup. This function will be passed as the <code>model_generating_function</code> argument when you <code>add_data</code> to the RetrievalConfig class. Here we will outline a simple, cloud-free transmission spectrum model using free retrieval chemistry and an isothermal P-T profile to demonstrate.\n",
    "\n",
    "Four parameters are required. A pRT object which is created is from the Radtrans() class in pRT and a dictionary of parameters, which is created and stored by the RetrievalConfig class that we defined above. The remaining three parameters deal with plotting and adaptive mesh refinement, which we won't use in this example.\n",
    "\n",
    "In general, the built in model functions require cgs units, apart from pressure which is given in bar."
   ],
   "cell_type": "markdown",
   "metadata": {}
  },
  {
   "cell_type": "code",
   "execution_count": 4,
   "metadata": {},
   "outputs": [],
   "source": [
    "# Now we can define the atmospheric model we want to use\n",
    "def retrieval_model_spec_iso(pRT_object, \\\n",
    "                             parameters, \\\n",
    "                             PT_plot_mode = False,\n",
    "                             AMR = False):\n",
    "    \"\"\"\n",
    "    retrieval_model_eq_transmission\n",
    "    This model computes a transmission spectrum based on free retrieval chemistry\n",
    "    and an isothermal temperature-pressure profile. \n",
    "    \n",
    "    parameters\n",
    "    -----------\n",
    "    pRT_object : object\n",
    "        An instance of the pRT class, with optical properties as defined in the RunDefinition.\n",
    "    parameters : dict\n",
    "        Dictionary of required parameters:\n",
    "            Rstar : Radius of the host star [cm]\n",
    "            log_g : Log of surface gravity\n",
    "            R_pl : planet radius [cm]\n",
    "            Temperature : Isothermal temperature [K]\n",
    "            species : Abundances for each species used in the retrieval\n",
    "            Pcloud : optional, cloud base pressure of a grey cloud deck.\n",
    "    PT_plot_mode : bool\n",
    "        Return only the pressure-temperature profile for plotting. Evaluate mode only.\n",
    "    AMR : \n",
    "        Adaptive mesh refinement. Use the high resolution pressure grid around the cloud base.\n",
    "\n",
    "    returns\n",
    "    -------\n",
    "    wlen_model : np.array\n",
    "        Wavlength array of computed model, not binned to data [um]\n",
    "    spectrum_model : np.array\n",
    "        Computed transmission spectrum R_pl**2/Rstar**2\n",
    "    \"\"\"\n",
    "    # Make the P-T profile\n",
    "    pressures = pRT_object.press/1e6 # internally pRT uses cgs\n",
    "\n",
    "    # Note how we access the values of the Parameter class objects\n",
    "    temperatures = parameters['Temperature'].value * np.ones_like(pressures)\n",
    "       \n",
    "    # If in evaluation mode, and PTs are supposed to be plotted\n",
    "    if PT_plot_mode:\n",
    "        return pressures, temperatures\n",
    "    \n",
    "    # Make the abundance profiles\n",
    "    abundances = {}\n",
    "    msum = 0.0 # Check that the total massfraction of all species is <1\n",
    "    for species in pRT_object.line_species:\n",
    "        spec = species.split('_R_')[0] # Dealing with the exo-k naming.\n",
    "        abundances[species] = 10**parameters[spec].value * np.ones_like(pressures)\n",
    "        msum += 10**parameters[spec].value\n",
    "    if msum > 1.0:\n",
    "        return None, None\n",
    "    abundances['H2'] = 0.766 * (1.0-msum) * np.ones_like(pressures)\n",
    "    abundances['He'] = 0.234 * (1.0-msum) * np.ones_like(pressures)\n",
    "    \n",
    "    # Find the mean molecular weight in each layer\n",
    "    from petitRADTRANS.retrieval.util import calc_MMW\n",
    "    MMW = calc_MMW(abundances)\n",
    "    \n",
    "    # Calculate the spectrum\n",
    "    pRT_object.calc_transm(temperatures, \\\n",
    "                           abundances, \\\n",
    "                           10**parameters['log_g'].value, \\\n",
    "                           MMW, \\\n",
    "                           R_pl=parameters['R_pl'].value, \\\n",
    "                           P0_bar=0.01,\n",
    "                           Pcloud = 10**parameters['log_Pcloud'].value)\n",
    "                           # Keep P0_bar at 100. for now!\n",
    "                           # Otherwise change maximum pressure\n",
    "    # Transform the outputs into the units of our data.\n",
    "    wlen_model = nc.c/pRT_object.freq/1e-4\n",
    "    spectrum_model = (pRT_object.transm_rad/parameters['Rstar'].value)**2.\n",
    "    return wlen_model, spectrum_model"
   ]
  },
  {
   "cell_type": "code",
   "execution_count": 5,
   "metadata": {},
   "outputs": [],
   "source": [
    "# Finally, we associate the model with the data, and we can run our retrieval!\n",
    "import petitRADTRANS # need to get the name for the example data\n",
    "path_to_data = \"\" \n",
    "path_to_data = petitRADTRANS.__file__.split('__init__.py')[0] # Default location for the example\n",
    "RunDefinitionSimple.add_data('HST',   # Simulated HST data\n",
    "                       path_to_data + \\\n",
    "                       'retrieval_examples/transmission/hst_example_clear_spec.txt', # Where is the data\n",
    "                       model_generating_function = retrieval_model_spec_iso, # The atmospheric model to use\n",
    "                       data_resolution = 60, # The spectral resolution of the data\n",
    "                       model_resolution = 120) # The resolution of the c-k tables for the lines\n",
    "\n",
    "# In general, it is also useful to use the data_resolution and model_resolution arguments.\n",
    "# The data_resolution argument will convolve the generated model spectrum by the instrumental \n",
    "# resolution prior to calculating the chi squared value.\n",
    "#\n",
    "# The model_resolution function uses exo-k to generate low-resolution correlated-k opacity tables\n",
    "# in order to speed up the radiative transfer calculations. \n",
    "# We recommend choosing a model_resolution of about 2x the data_resolution.\n",
    "\n"
   ]
  },
  {
   "source": [
    "## Plotting\n",
    "Let's set up some plotting details so that we can generate nice outputs.\n",
    "\n",
    "Each parameter can be added to the corner plot, its label changed, and the values transformed to more nature units (eg, the planet radius in jupiter radii, rather than cm).\n",
    "We can also set the bounds and scaling on the best fit spectrum plot and the limits for the P-T profile plot.\n",
    "With this complete, our retrieval is ready to go.\n",
    "\n",
    "Most parameters include a default setting, so the plots will be created even if you don't set any plotting parameters, but the outputs might not be very informative. In general, the possible arguments to `plot_kwargs` follow the naming conventions of matplotlib arguments and functions, with some additions.\n",
    "Full details of the plotting can be found in the Retrieval class in retrieval.py."
   ],
   "cell_type": "markdown",
   "metadata": {}
  },
  {
   "cell_type": "code",
   "execution_count": 6,
   "metadata": {},
   "outputs": [],
   "source": [
    "##################################################################\n",
    "# Define what to put into corner plot if run_mode == 'evaluate'\n",
    "##################################################################\n",
    "RunDefinitionSimple.parameters['R_pl'].plot_in_corner = True\n",
    "RunDefinitionSimple.parameters['R_pl'].corner_label = r'$R_{\\rm P}$ ($\\rm R_{Jup}$)'\n",
    "RunDefinitionSimple.parameters['R_pl'].corner_transform = lambda x : x/nc.r_jup_mean\n",
    "RunDefinitionSimple.parameters['log_g'].plot_in_corner = True\n",
    "RunDefinitionSimple.parameters['log_g'].corner_ranges = [2., 5.]\n",
    "RunDefinitionSimple.parameters['log_g'].corner_label = \"log g\"\n",
    "RunDefinitionSimple.parameters['Temperature'].plot_in_corner = True\n",
    "RunDefinitionSimple.parameters['Temperature'].corner_label =\"Temp\"\n",
    "\n",
    "# Adding all of the chemical species in our atmosphere to the corner plot\n",
    "for spec in RunDefinitionSimple.line_species:\n",
    "    if 'all_iso' in spec:\n",
    "        # CO is named CO_all_iso, watch out\n",
    "        RunDefinitionSimple.parameters[spec].corner_label = 'CO'\n",
    "    RunDefinitionSimple.parameters[spec].plot_in_corner = True\n",
    "    RunDefinitionSimple.parameters[spec].corner_ranges = [-7,-1.0]\n",
    "\n",
    "    # Note, the post_equal_weights file has the actual abundances.\n",
    "    # If the retrieval is rerun, it will contain the log10(abundances)\n",
    "    RunDefinitionSimple.parameters[spec].corner_transform = lambda x : np.log10(x)\n",
    "\n",
    "##################################################################\n",
    "# Define axis properties of spectral plot if run_mode == 'evaluate'\n",
    "##################################################################\n",
    "RunDefinitionSimple.plot_kwargs[\"spec_xlabel\"] = 'Wavelength [micron]'\n",
    "RunDefinitionSimple.plot_kwargs[\"spec_ylabel\"] = r'$(R_{\\rm P}/R_*)^2$ [ppm]'\n",
    "RunDefinitionSimple.plot_kwargs[\"y_axis_scaling\"] = 1e6 # so we have units of ppm\n",
    "RunDefinitionSimple.plot_kwargs[\"xscale\"] = 'linear'\n",
    "RunDefinitionSimple.plot_kwargs[\"yscale\"] = 'linear'\n",
    "RunDefinitionSimple.plot_kwargs[\"nsample\"] = 10\n",
    "\n",
    "##################################################################\n",
    "# Define from which observation object to take P-T\n",
    "# in evaluation mode (if run_mode == 'evaluate'),\n",
    "# add PT-envelope plotting options\n",
    "##################################################################\n",
    "RunDefinitionSimple.plot_kwargs[\"take_PTs_from\"] = 'HST'\n",
    "RunDefinitionSimple.plot_kwargs[\"temp_limits\"] = [150, 3000]\n",
    "RunDefinitionSimple.plot_kwargs[\"press_limits\"] = [1e2, 1e-5]"
   ]
  },
  {
   "source": [
    "## Running the retrieval\n",
    "At this point, we are ready to run the retrieval! All we need to do is pass the RunDefinition we just created to the Retrieval class and call its run method. There are a few additional parameters that can be adjusted, but the defaults should work well for almost all use cases. It's not recommended to try to run a retrieval on your laptop, as it's very computationally expensive. However, the included HST example should be able to be run fairly easily!\n",
    "\n",
    "Now that the plotting parameters are set up, we can start the retrieval using retrieval.run(). Once the retrieval is complete, we can use the plotAll() function to generate plots of the best fit spectrum, the pressure-temperature profile and the corner plots."
   ],
   "cell_type": "markdown",
   "metadata": {}
  },
  {
   "cell_type": "code",
   "execution_count": 12,
   "metadata": {},
   "outputs": [
    {
     "output_type": "stream",
     "name": "stdout",
     "text": [
      "Setting up PRT Objects\n",
      "  Read line opacities of CH4_R_120...\n",
      " Done.\n",
      "  Read line opacities of H2O_R_120...\n",
      " Done.\n",
      "  Read line opacities of CO2_R_120...\n",
      " Done.\n",
      "  Read line opacities of CO_all_iso_R_120...\n",
      " Done.\n",
      "\n",
      "  Read CIA opacities for H2-H2...\n",
      "  Read CIA opacities for H2-He...\n",
      " Done.\n",
      "\n",
      "Starting retrieval: hst_example_clear_spec\n",
      "\n"
     ]
    }
   ],
   "source": [
    "# If you want to run the retrieval, you need to choose a different output directory name,\n",
    "# due to pRT requirements.\n",
    "#output_dir = path_to_data + 'retrieval_examples/transmission/'\n",
    "output_dir = \"\"\n",
    "\n",
    "retrieval = Retrieval(RunDefinitionSimple,\n",
    "                      output_dir = output_dir,\n",
    "                      sample_spec = False,\n",
    "                      resume=False)\n",
    "retrieval.run()\n",
    "#retrieval.plotAll() # We'll make all the plots individually for now."
   ]
  },
  {
   "source": [
    "Let's make some plots to see how our retrieval went! We need to start by reading in the results"
   ],
   "cell_type": "markdown",
   "metadata": {}
  },
  {
   "cell_type": "code",
   "execution_count": null,
   "metadata": {},
   "outputs": [],
   "source": [
    "\n",
    "sample_dict, parameter_dict = retrieval.getSamples()\n",
    "samples_use = sample_dict[retrieval.retrieval_name]\n",
    "parameters_read = parameter_dict[retrieval.retrieval_name]\n"
   ]
  },
  {
   "cell_type": "code",
   "execution_count": null,
   "metadata": {},
   "outputs": [],
   "source": [
    "# Plotting the best fit spectrum\n",
    "fig,ax,ax_r = retrieval.plotSpectra(samples_use,parameters_read)\n",
    "plt.show()"
   ]
  },
  {
   "cell_type": "code",
   "execution_count": null,
   "metadata": {},
   "outputs": [],
   "source": [
    "# Plotting the PT profile\n",
    "fig,ax =retrieval.plotPT(sample_dict,parameters_read)\n",
    "plt.show()"
   ]
  },
  {
   "cell_type": "code",
   "execution_count": null,
   "metadata": {},
   "outputs": [],
   "source": [
    "# Corner plot\n",
    "retrieval.plotCorner(sample_dict,parameter_dict,parameters_read)\n",
    "plt.show()"
   ]
  },
  {
   "source": [
    "## Emission Spectrum Example\n",
    "This retrieval is based on Mollière 2020 for HR8799e, and shows a more realistic example of how to set up a retrieval.\n",
    "\n",
    "For this example, the module poor_mans_noneq_chemistry is used to solve disequilibrium chemistry, and teh cloud_cond module is used for cloud condensation.\n",
    "You can import other models from models.py, or write your own function, ensuring that it takes in the same set of inputs and outputs, which are documented in models.py.\n",
    "\n",
    "This model uses a simple adaptive mesh refinement (AMR) to improve the accuracy around the location of the cloud bases. This method will increase the size of the "
   ],
   "cell_type": "markdown",
   "metadata": {}
  },
  {
   "cell_type": "code",
   "execution_count": null,
   "metadata": {},
   "outputs": [],
   "source": [
    "##########################\n",
    "# Define the pRT run setup\n",
    "##########################\n",
    "\n",
    "# retrieve.py expects this object to be called RunDefinition.\n",
    "RunDefinition = RetrievalConfig(retrieval_name = \"HR8799e_example\", # Give a useful name for your retrieval \n",
    "                                run_mode = \"retrieval\", # 'retrieval' to run, or 'evaluate' to make plots\n",
    "                                AMR = True,             # Adaptive mesh refinement, slower if True\n",
    "                                plotting = False,       # Only turn on to check your retrieval is working\n",
    "                                scattering = True)      # Add scattering for emission spectra clouds"
   ]
  },
  {
   "cell_type": "markdown",
   "metadata": {},
   "source": [
    "## Data and Models\n",
    "The data can be stored in either a text file (.txt, .dat) or in a .fits file.\n",
    "If reading a text file, the first column must be the wavelength in micron, the second column the flux in W/m^2/micron for an emission spectrum, or in R_p^2/R_star^2 for a transmission spectrum. The final column must be the error on these data points.\n",
    "If using a .fits file, it should contain a single HDU object named \"SPECTRUM\", with three fields: \"WAVELENGTH\", \"FLUX\" and \"COVARIANCE\".\n",
    "\n",
    "The model_generating_function will take in all of the various retrieval parameters, and output the wavelength and spectrum as calculated by pRT. Several of these function are stored in models.py, but any function that takes the same arguments and returns the same outputs can be used. Later we will show an example of how to write such a function.\n",
    "\n",
    "For this example we include the GRAVITY data as published in Mollière 2020. To reproduce the published results, be sure to include the archival SPHERE and GPI data from Zurlo et al. 2015 and Greenbaum 2016."
   ]
  },
  {
   "cell_type": "code",
   "execution_count": null,
   "metadata": {},
   "outputs": [],
   "source": [
    "##################\n",
    "# Read in Data\n",
    "##################\n",
    "path_to_data = \"\" # default location is petitRADTRANS.__file__.split('__init__.py')[0]\n",
    "RunDefinition.add_data('GRAVITY',                                        # Name of your dataset, typically the instrument name\n",
    "                       path_to_data + 'retrieval_examples/emission/HR8799e_Spectra.fits',              # File where the data is stored\n",
    "                       model_generating_function = emission_model_diseq) # The atmospheric model used in this retrieval\n"
   ]
  },
  {
   "cell_type": "markdown",
   "metadata": {},
   "source": [
    "## Parameters and Priors\n",
    "Here we add all of the parameters used in the retrieval. \n",
    "Each parameter must be given a name, which matches the name used in the model function.\n",
    "Parameters can be set to fixed or free. Fixed parameters must be given a value, while free parameters are given a function that transforms the unit hypercube generated by multinest into physical prior space. Various prior functions are stored in priors.py."
   ]
  },
  {
   "cell_type": "code",
   "execution_count": null,
   "metadata": {},
   "outputs": [],
   "source": [
    "#################################################\n",
    "# Add parameters, and priors for free parameters.\n",
    "#################################################\n",
    "\n",
    "# This run uses the model of Molliere (2020) for HR8799e\n",
    "# The lambda function provide uniform priors.\n",
    "\n",
    "# Distance to the planet in cm\n",
    "RunDefinition.add_parameter(name = 'D_pl', free = False, value = 41.2925*nc.pc)\n",
    "\n",
    "# Log of the surface gravity in cgs units.\n",
    "RunDefinition.add_parameter('log_g',True, \n",
    "                            transform_prior_cube_coordinate = \\\n",
    "                            lambda x : 2.+3.5*x)\n",
    "\n",
    "# Planet radius in cm\n",
    "RunDefinition.add_parameter('R_pl', True, \\\n",
    "                            transform_prior_cube_coordinate = \\\n",
    "                            lambda x : ( 0.7+1.3*x)*nc.r_jup_mean)\n",
    "\n",
    "# Interior temperature in Kelvin\n",
    "RunDefinition.add_parameter('T_int', True, \\\n",
    "                            transform_prior_cube_coordinate = \\\n",
    "                            lambda x : 300.+2000.*x,\n",
    "                            value=0.0)\n",
    "\n",
    "# Spline temperature structure parameters. T1 < T2 < T3\n",
    "# As these priors depend on each other, they are implemented in the model function\n",
    "RunDefinition.add_parameter('T3', True, \\\n",
    "                            transform_prior_cube_coordinate = \\\n",
    "                            lambda x : x,\n",
    "                            value=0.0)\n",
    "RunDefinition.add_parameter('T2', True, \\\n",
    "                            transform_prior_cube_coordinate = \\\n",
    "                            lambda x : x,\n",
    "                            value=0.0)\n",
    "RunDefinition.add_parameter('T1', True, \\\n",
    "                            transform_prior_cube_coordinate = \\\n",
    "                            lambda x : x)\n",
    "# Optical depth model\n",
    "# power law index in tau = delta * press_cgs**alpha\n",
    "RunDefinition.add_parameter('alpha', True, \\\n",
    "                            transform_prior_cube_coordinate = \\\n",
    "                            lambda x :1.0+x)\n",
    "# proportionality factor in tau = delta * press_cgs**alpha\n",
    "RunDefinition.add_parameter('log_delta', True, \\\n",
    "                            transform_prior_cube_coordinate = \\\n",
    "                            lambda x : x) \n",
    "# Chemistry\n",
    "# A 'free retrieval' would have each line species as a parameter\n",
    "# Using a (dis)equilibrium model, we only supply bulk parameters.\n",
    "# Carbon quench pressure\n",
    "RunDefinition.add_parameter('log_pquench',True,\\\n",
    "                            transform_prior_cube_coordinate = \\\n",
    "                            lambda x : -6.0+9.0*x)\n",
    "# Metallicity\n",
    "RunDefinition.add_parameter('Fe/H',True,\\\n",
    "                            transform_prior_cube_coordinate = \\\n",
    "                            lambda x : -1.5+3.0*x)\n",
    "# C/O ratio\n",
    "RunDefinition.add_parameter('C/O',True,\\\n",
    "                            transform_prior_cube_coordinate = \\\n",
    "                            lambda x : 0.1+1.5*x)\n",
    "# Clouds\n",
    "# Based on an Ackermann-Marley (2001) cloud model\n",
    "# Width of particle size distribution\n",
    "RunDefinition.add_parameter('sigma_lnorm', True,\n",
    "                            transform_prior_cube_coordinate = \\\n",
    "                            lambda x : 1.05 + 1.95*x) \n",
    "# Vertical mixing parameters\n",
    "RunDefinition.add_parameter('log_kzz',True,\\\n",
    "                            transform_prior_cube_coordinate = \\\n",
    "                            lambda x : 5.0+8.*x) \n",
    "# Sedimentation parameter\n",
    "RunDefinition.add_parameter('fsed',True,\\\n",
    "                            transform_prior_cube_coordinate = \\\n",
    "                            lambda x : 1.0 + 10.0*x)\n",
    "# Data scaling\n",
    "# If the luminosity of datasets does not agree, we can scale one or more of the datasets\n",
    "# by a constant factor. \n",
    "# Scaling factor name must be the name of the Data class for\n",
    "# the instrument, + \"_scale_factor\"                            \n",
    "#RunDefinition.add_parameter('SPHERE_scale_factor',True,\\\n",
    "#                            transform_prior_cube_coordinate = \\\n",
    "#                            lambda x : 0.8 + 0.4 *x)"
   ]
  },
  {
   "cell_type": "markdown",
   "metadata": {},
   "source": []
  },
  {
   "cell_type": "code",
   "execution_count": null,
   "metadata": {},
   "outputs": [],
   "source": [
    "#######################################################\n",
    "# Define species to be included as absorbers\n",
    "#######################################################\n",
    "RunDefinition.set_rayleigh_species(['H2', 'He'])\n",
    "RunDefinition.set_continuum_opacities(['H2-H2', 'H2-He'])\n",
    "RunDefinition.set_line_species(['CH4', 'H2O', 'CO2', 'HCN', 'CO_all_iso', 'H2', 'H2S', 'NH3', 'PH3', 'Na', 'K'])\n",
    "RunDefinition.add_cloud_species('Fe(c)_cd',eq = True,abund_lim = (-3.5,4.5))\n",
    "RunDefinition.add_cloud_species('MgSiO3(c)_cd',eq = True,abund_lim = (-3.5,4.5))\n",
    "\n"
   ]
  },
  {
   "cell_type": "code",
   "execution_count": null,
   "metadata": {},
   "outputs": [],
   "source": [
    "retrieval = Retrieval(RunDefinition,\n",
    "                      output_dir = \"\",\n",
    "                      sample_spec = False)\n"
   ]
  },
  {
   "cell_type": "markdown",
   "metadata": {},
   "source": [
    "## Plotting\n",
    "However, before running the retrieval, we should set up the plots.\n"
   ]
  },
  {
   "cell_type": "code",
   "execution_count": null,
   "metadata": {},
   "outputs": [],
   "source": [
    "##################################################################\n",
    "# Define what to put into corner plot if run_mode == 'evaluate'\n",
    "##################################################################\n",
    "RunDefinition.parameters['R_pl'].plot_in_corner = True\n",
    "RunDefinition.parameters['R_pl'].corner_label = r'$R_{\\rm P}$ ($\\rm R_{Jup}$)'\n",
    "RunDefinition.parameters['R_pl'].corner_transform = lambda x : x/nc.r_jup_mean\n",
    "RunDefinition.parameters['log_g'].plot_in_corner = True\n",
    "RunDefinition.parameters['log_g'].corner_ranges = [2., 5.]\n",
    "RunDefinition.parameters['log_g'].corner_label = \"log g\"\n",
    "RunDefinition.parameters['fsed'].plot_in_corner = True\n",
    "RunDefinition.parameters['log_kzz'].plot_in_corner = True\n",
    "RunDefinition.parameters['log_kzz'].corner_label = \"log Kzz\"\n",
    "RunDefinition.parameters['C/O'].plot_in_corner = True\n",
    "RunDefinition.parameters['Fe/H'].plot_in_corner = True\n",
    "RunDefinition.parameters['log_pquench'].plot_in_corner = True\n",
    "RunDefinition.parameters['log_pquench'].corner_label = \"log pquench\"\n",
    "\n",
    "for spec in RunDefinition.cloud_species:\n",
    "    cname = spec.split('_')[0]\n",
    "    RunDefinition.parameters['log_X_cb_'+cname].plot_in_corner = True\n",
    "    RunDefinition.parameters['log_X_cb_'+cname].corner_label = cname\n",
    "\n",
    "##################################################################\n",
    "# Define axis properties of spectral plot if run_mode == 'evaluate'\n",
    "##################################################################\n",
    "RunDefinition.plot_kwargs[\"spec_xlabel\"] = 'Wavelength [micron]'\n",
    "\n",
    "RunDefinition.plot_kwargs[\"spec_ylabel\"] = \"Flux [W/m2/micron]\"\n",
    "RunDefinition.plot_kwargs[\"y_axis_scaling\"] = 1.0\n",
    "RunDefinition.plot_kwargs[\"xscale\"] = 'log'\n",
    "RunDefinition.plot_kwargs[\"yscale\"] = 'linear'\n",
    "RunDefinition.plot_kwargs[\"resolution\"] = 100.# Maximum resolution, will rebin the data\n",
    "RunDefinition.plot_kwargs[\"nsample\"] = 100 # If we want a plot with many sampled spectra\n",
    "\n",
    "##################################################################\n",
    "# Define from which observation object to take P-T\n",
    "# in evaluation mode (if run_mode == 'evaluate'),\n",
    "# add PT-envelope plotting options\n",
    "##################################################################\n",
    "RunDefinition.plot_kwargs[\"take_PTs_from\"] = 'GRAVITY'\n",
    "RunDefinition.plot_kwargs[\"temp_limits\"] = [150, 3000]\n",
    "RunDefinition.plot_kwargs[\"press_limits\"] = [1e2, 1e-5]"
   ]
  },
  {
   "cell_type": "code",
   "execution_count": null,
   "metadata": {},
   "outputs": [],
   "source": [
    "retrieval = Retrieval(RunDefinition,\n",
    "                      output_dir = \"\",\n",
    "                      sample_spec = False)\n",
    "retrieval.run()\n"
   ]
  },
  {
   "cell_type": "code",
   "execution_count": null,
   "metadata": {},
   "outputs": [],
   "source": [
    "retrieval.plotAll()"
   ]
  },
  {
   "cell_type": "markdown",
   "metadata": {},
   "source": []
  },
  {
   "cell_type": "markdown",
   "metadata": {},
   "source": [
    "### Contact\n",
    "If you need any additional help, don't hesitate to contact Evert Nasedkin (nasedkinevert@gmail.com)."
   ]
  },
  {
   "cell_type": "code",
   "execution_count": null,
   "metadata": {},
   "outputs": [],
   "source": []
  }
 ],
 "metadata": {
  "kernelspec": {
   "name": "python376jvsc74a57bd04ea1952d41d83c6854a38ab8286b2d39bf4a77f0a8291b0664c5892707d38a86",
   "display_name": "Python 3.7.6 64-bit ('base': conda)"
  },
  "language_info": {
   "codemirror_mode": {
    "name": "ipython",
    "version": 3
   },
   "file_extension": ".py",
   "mimetype": "text/x-python",
   "name": "python",
   "nbconvert_exporter": "python",
   "pygments_lexer": "ipython3",
   "version": "3.7.6"
  }
 },
 "nbformat": 4,
 "nbformat_minor": 4
}